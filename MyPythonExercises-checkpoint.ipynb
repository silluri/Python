{
 "cells": [
  {
   "cell_type": "code",
   "execution_count": 17,
   "metadata": {},
   "outputs": [
    {
     "name": "stdout",
     "output_type": "stream",
     "text": [
      "ITEM1\n",
      "ITEM2\n",
      "ITEM3\n",
      "['ITEM1', 'ITEM2', 'ITEM3']\n"
     ]
    }
   ],
   "source": [
    "# print using List\n",
    "a=[\"ITEM1\",\"ITEM2\",\"ITEM3\"]\n",
    "print (a[0])\n",
    "print (a[1])\n",
    "print (a[2])\n",
    "print (a)"
   ]
  },
  {
   "cell_type": "code",
   "execution_count": 20,
   "metadata": {},
   "outputs": [
    {
     "name": "stdout",
     "output_type": "stream",
     "text": [
      "[0, 1, 0]\n"
     ]
    }
   ],
   "source": [
    "# Change the second element in b_list to 1\n",
    "b_list=[0,0,0]\n",
    "(b_list[1])=1\n",
    "print (b_list)"
   ]
  },
  {
   "cell_type": "code",
   "execution_count": 24,
   "metadata": {},
   "outputs": [
    {
     "name": "stdout",
     "output_type": "stream",
     "text": [
      "ITEM0\n",
      "ITEM1\n",
      "ITEM2\n"
     ]
    }
   ],
   "source": [
    "# iterate over each element in c_list and print it using \"for element in \" syntax\n",
    "c_list=[\"ITEM0\",\"ITEM1\",\"ITEM2\"]\n",
    "for element in c_list:\n",
    "    print(element)"
   ]
  },
  {
   "cell_type": "code",
   "execution_count": 26,
   "metadata": {},
   "outputs": [
    {
     "name": "stdout",
     "output_type": "stream",
     "text": [
      "ITEM0\n",
      "ITEM1\n",
      "ITEM2\n"
     ]
    }
   ],
   "source": [
    "# iterate over each element in d_list and print it using \"for i in range \" syntax\n",
    "d_list=[\"ITEM0\",\"ITEM1\",\"ITEM2\"]\n",
    "for i in range(len(d_list)):\n",
    "    print(d_list[i])"
   ]
  },
  {
   "cell_type": "code",
   "execution_count": 30,
   "metadata": {},
   "outputs": [
    {
     "name": "stdout",
     "output_type": "stream",
     "text": [
      "798\n"
     ]
    }
   ],
   "source": [
    "# Find the sum of e_list which contains [32,55,710,1]\n",
    "e_list=[32,55,710,1]\n",
    "Total = sum(e_list)\n",
    "print(Total)"
   ]
  },
  {
   "cell_type": "code",
   "execution_count": 42,
   "metadata": {},
   "outputs": [
    {
     "name": "stdout",
     "output_type": "stream",
     "text": [
      "None\n"
     ]
    }
   ],
   "source": [
    "# print second largest number in an array [1,3,4,5,0,2]\n",
    "def second_largest(given_list):\n",
    "    largest = None\n",
    "    second_largest = None\n",
    "    for current_number in given_list:\n",
    "        if largest == None:\n",
    "            largest== current_number\n",
    "        elif current_number > largest:\n",
    "            second_largest==largest\n",
    "            largest==current_number\n",
    "        elif second_largest==None:\n",
    "            second_largest==current_number\n",
    "        elif current_number > second_largest:    \n",
    "            second_largest==current_number\n",
    "    return second_largest\n",
    "print(second_largest([1,3,4,5,0,2]))"
   ]
  },
  {
   "cell_type": "code",
   "execution_count": 49,
   "metadata": {},
   "outputs": [
    {
     "name": "stdout",
     "output_type": "stream",
     "text": [
      "The value if a_string is:\n",
      "['ABC']\n"
     ]
    }
   ],
   "source": [
    "# Initialize a new string, \"ABC\" and store it in new variable called a_string.\n",
    "a_string=[\"ABC\"]\n",
    "print(\"The value if a_string is:\")\n",
    "print(a_string)"
   ]
  },
  {
   "cell_type": "code",
   "execution_count": 48,
   "metadata": {},
   "outputs": [
    {
     "name": "stdout",
     "output_type": "stream",
     "text": [
      "second character of b_string is :\n",
      "E\n"
     ]
    }
   ],
   "source": [
    "# From the string caleed b_string below retrieve and print 2nd character\n",
    "b_string=\"DEF\"\n",
    "print(\"second character of b_string is :\")\n",
    "print(b_string[1])"
   ]
  },
  {
   "cell_type": "code",
   "execution_count": 55,
   "metadata": {},
   "outputs": [
    {
     "name": "stdout",
     "output_type": "stream",
     "text": [
      "value of c_string is:\n",
      "G\n",
      "value of c_string is:\n",
      "H\n",
      "value of c_string is:\n",
      "I\n"
     ]
    }
   ],
   "source": [
    "#Iterate over each character in c_string and print it using \"for character in\" syntax\n",
    "c_string=\"GHI\"\n",
    "for character in c_string:\n",
    "    print(\"value of c_string is:\")\n",
    "    print(character)"
   ]
  },
  {
   "cell_type": "code",
   "execution_count": 59,
   "metadata": {},
   "outputs": [
    {
     "name": "stdout",
     "output_type": "stream",
     "text": [
      "Value of d_string is :\n",
      "P\n",
      "Value of d_string is :\n",
      "Q\n",
      "Value of d_string is :\n",
      "R\n"
     ]
    }
   ],
   "source": [
    "#Iterate over each character in d_string and print it using \"for i in range of \" syntax\n",
    "d_string=\"PQR\"\n",
    "for i in range(len(d_string)):\n",
    "    print(\"Value of d_string is :\") \n",
    "    print(d_string[i])"
   ]
  },
  {
   "cell_type": "code",
   "execution_count": 72,
   "metadata": {},
   "outputs": [],
   "source": [
    "# Verify if string 1 and string 2 are reverses of each other and true if they are\n",
    "def are_reverses(string_1,string_2):\n",
    "    for i in range(len(string_1)):\n",
    "        i_2=len(string_2)-i-1\n",
    "        if string_1[i]!=string_2[i_2]:\n",
    "            return False\n",
    "        return True"
   ]
  },
  {
   "cell_type": "code",
   "execution_count": 74,
   "metadata": {},
   "outputs": [
    {
     "data": {
      "text/plain": [
       "True"
      ]
     },
     "execution_count": 74,
     "metadata": {},
     "output_type": "execute_result"
    }
   ],
   "source": [
    "are_reverses(\"abc\",\"cba\")"
   ]
  },
  {
   "cell_type": "code",
   "execution_count": 83,
   "metadata": {},
   "outputs": [],
   "source": [
    "# Compare 2 strings as numbers\n",
    "def larger_than(a,b):\n",
    "    if len(a) > len(b):\n",
    "        return True\n",
    "    elif len(b) > len(a):\n",
    "        return False\n"
   ]
  },
  {
   "cell_type": "code",
   "execution_count": 85,
   "metadata": {},
   "outputs": [
    {
     "data": {
      "text/plain": [
       "True"
      ]
     },
     "execution_count": 85,
     "metadata": {},
     "output_type": "execute_result"
    }
   ],
   "source": [
    "larger_than(\"1234\",\"125\")"
   ]
  },
  {
   "cell_type": "code",
   "execution_count": null,
   "metadata": {},
   "outputs": [],
   "source": []
  }
 ],
 "metadata": {
  "kernelspec": {
   "display_name": "Python 3",
   "language": "python",
   "name": "python3"
  },
  "language_info": {
   "codemirror_mode": {
    "name": "ipython",
    "version": 3
   },
   "file_extension": ".py",
   "mimetype": "text/x-python",
   "name": "python",
   "nbconvert_exporter": "python",
   "pygments_lexer": "ipython3",
   "version": "3.6.4"
  }
 },
 "nbformat": 4,
 "nbformat_minor": 2
}
